{
 "cells": [
  {
   "cell_type": "code",
   "execution_count": 216,
   "metadata": {
    "ExecuteTime": {
     "end_time": "2020-10-15T11:01:26.901403Z",
     "start_time": "2020-10-15T11:01:26.888461Z"
    },
    "tags": [
     "#import"
    ]
   },
   "outputs": [],
   "source": [
    "import os\n",
    "\n",
    "import cv2\n",
    "import torch\n",
    "import numpy as np\n",
    "import torch.nn as nn\n",
    "import matplotlib.pyplot as plt\n",
    "from tqdm import tqdm\n",
    "\n",
    "from vedaseg.utils import Config\n",
    "from vedaseg.datasets import build_dataset\n",
    "from vedaseg.transforms import build_transform\n",
    "from vedaseg.dataloaders import build_dataloader\n",
    "from vedaseg.datasets.xray import XrayDataset\n",
    "from vedaseg.dataloaders.samplers import build_sampler\n",
    "\n",
    "# from vedaseg.runners."
   ]
  },
  {
   "cell_type": "code",
   "execution_count": 217,
   "metadata": {
    "ExecuteTime": {
     "end_time": "2020-10-15T11:01:27.996988Z",
     "start_time": "2020-10-15T11:01:26.904775Z"
    },
    "tags": [
     "#init",
     "=>import"
    ]
   },
   "outputs": [],
   "source": [
    "cfg_path = 'configs/xray_seg_ks0.py'\n",
    "json_path = '/DATA/home/tianhewang/DataSets/KS_X-ray/ks_0/ks_0_train.json'\n",
    "cfg = Config.fromfile(cfg_path)\n",
    "\n",
    "test_cfg = cfg['test']\n",
    "train_cfg = cfg['train']\n",
    "inference_cfg = cfg['inference']\n",
    "common_cfg = cfg['common']\n",
    "\n",
    "size_h = 1153\n",
    "size_w = 1153\n",
    "ignore_label = 255\n",
    "image_pad_value = (0, 0, 0)\n",
    "# print(train_cfg)\n",
    "img_norm_cfg = dict(mean=(0.485, 0.456, 0.406),\n",
    "                    std=(0.229, 0.224, 0.225),\n",
    "                    max_pixel_value=255.0)\n",
    "\n",
    "\n",
    "transform_cfg = [\n",
    "                dict(type='LongestMaxSize', h_max=size_h, w_max=size_w,\n",
    "                     interpolation=cv2.INTER_LINEAR),\n",
    "                dict(type='PadIfNeeded', min_height=size_h, min_width=size_w,\n",
    "                     value=image_pad_value, mask_value=0),\n",
    "#                 dict(type='FactorScale', scale=1/16,\n",
    "#                      interpolation=cv2.INTER_LINEAR,\n",
    "#                      always_apply=True,\n",
    "#                      p=1.0),\n",
    "                # dict(type='GaussianBlur', blur_limit=7, p=0.5),\n",
    "                dict(type='Normalize', **img_norm_cfg),\n",
    "                dict(type='ToTensor'),\n",
    "            ]\n",
    "\n",
    "transform = build_transform(transform_cfg)\n",
    "dataset = build_dataset(train_cfg['data']['train']['dataset'],\n",
    "                        dict(transform=transform))\n",
    "# shuffle = train_cfg['data']['train']['dataloader'].pop('shuffle', False)\n",
    "\n",
    "# sampler = build_sampler(False, \n",
    "#                         train_cfg['data']['train']['sampler'],\n",
    "#                         dict(dataset=dataset, shuffle=shuffle))\n",
    "\n",
    "# train_cfg['data']['train']['dataloader']['samples_per_gpu'] = 1\n",
    "# train_cfg['data']['train']['dataloader']['workers_per_gpu'] = 1\n",
    "# dataloader = build_dataloader(False, \n",
    "#                               1, \n",
    "#                               train_cfg['data']['train']['dataloader'],\n",
    "#                               dict(dataset=dataset, sampler=sampler))"
   ]
  },
  {
   "cell_type": "code",
   "execution_count": 126,
   "metadata": {
    "ExecuteTime": {
     "end_time": "2020-10-15T09:52:00.104753Z",
     "start_time": "2020-10-15T09:44:39.592541Z"
    },
    "scrolled": false,
    "tags": [
     "=>init"
    ]
   },
   "outputs": [
    {
     "name": "stdout",
     "output_type": "stream",
     "text": [
      "[2278, 1580]\n"
     ]
    }
   ],
   "source": [
    "out_path = '/DATA/home/tianhewang/DataSets/KS_X-ray/ks_0/vis'\n",
    "colors = [(0,255,0), (0,0,255)]\n",
    "\n",
    "count = [0, 0]\n",
    "for idx, (image, mask) in enumerate(\n",
    "    tqdm(dataset,\n",
    "         dynamic_ncols=True,\n",
    "         unit='images',\n",
    "         unit_scale=True)):\n",
    "    image = image.numpy().astype(int)\n",
    "    image = np.moveaxis(image, 0, -1)\n",
    "\n",
    "    mask = mask.numpy().astype(int)\n",
    "    for clas_ind in range(mask.shape[0]):\n",
    "        current = mask[clas_ind, ...]\n",
    "        current = current.reshape(-1)\n",
    "        if sum(current==1) > 0:\n",
    "            count[clas_ind] += 1\n",
    "print(count, len(dataset))\n",
    "#         image[mask[clas_ind, ...]==1]=colors[clas_ind]\n",
    "\n",
    "    \n",
    "#     target_dir = os.path.join(out_path, f'{idx}.jpg')\n",
    "#     cv2.imwrite(target_dir, image)\n",
    "    \n",
    "#     plt.figure(figsize=(10, 8))\n",
    "#     plt.imshow(image)\n",
    "#     plt.axis('off')\n",
    "#     plt.show()\n",
    "    \n",
    "#     if idx >= 5:\n",
    "#         break\n",
    "#     fn = data['img_metas'].data['ori_filename']\n",
    "#     fn = os.path.split(fn)[-1]\n",
    "#     target_dir = os.path.join(visualize_dir, fn)\n",
    "#     vis = process_image(data, exclude=None,\n",
    "#                         with_bbox=True)\n",
    "\n",
    "#     vis = cv2.cvtColor(vis, cv2.COLOR_RGB2BGR)\n",
    "#     cv2.imwrite(target_dir, vis)"
   ]
  },
  {
   "cell_type": "code",
   "execution_count": 218,
   "metadata": {
    "ExecuteTime": {
     "end_time": "2020-10-15T11:01:28.463553Z",
     "start_time": "2020-10-15T11:01:28.002525Z"
    },
    "tags": [
     "=>init"
    ]
   },
   "outputs": [
    {
     "name": "stdout",
     "output_type": "stream",
     "text": [
      "torch.Size([2, 1153, 1153])\n",
      "torch.Size([2, 1, 1])\n"
     ]
    }
   ],
   "source": [
    "image_, mask_ = dataset[15]\n",
    "# print(mask_)\n",
    "for _, mask in dataset:\n",
    "    print(mask.shape)\n",
    "    res = torch.zeros((mask.shape[0], 1, 1))\n",
    "    for clas_ind in range(mask.shape[0]):\n",
    "        current = mask[clas_ind, ...].reshape(-1)\n",
    "        if 1 in current:\n",
    "            res[clas_ind, 0, 0] = 1\n",
    "    print(res.shape)\n",
    "    break\n"
   ]
  },
  {
   "cell_type": "code",
   "execution_count": 169,
   "metadata": {
    "ExecuteTime": {
     "end_time": "2020-10-15T10:39:55.405680Z",
     "start_time": "2020-10-15T10:34:12.895508Z"
    },
    "tags": [
     "=>init"
    ]
   },
   "outputs": [
    {
     "name": "stderr",
     "output_type": "stream",
     "text": [
      "100%|██████████| 3.28k/3.28k [05:42<00:00, 9.58images/s]"
     ]
    },
    {
     "name": "stdout",
     "output_type": "stream",
     "text": [
      "[2278, 1580] 3279\n"
     ]
    },
    {
     "name": "stderr",
     "output_type": "stream",
     "text": [
      "\n"
     ]
    }
   ],
   "source": [
    "out_path = '/DATA/home/tianhewang/DataSets/KS_X-ray/ks_0/vis'\n",
    "colors = [(0,255,0), (0,0,255)]\n",
    "# m = nn.AdaptiveMaxPool2d((1, 1))\n",
    "\n",
    "count = [0, 0]\n",
    "for idx, (image, mask) in enumerate(\n",
    "    tqdm(dataset,\n",
    "         dynamic_ncols=True,\n",
    "         unit='images',\n",
    "         unit_scale=True)):\n",
    "#     image = image.numpy().astype(int)\n",
    "#     image = np.moveaxis(image, 0, -1)\n",
    "\n",
    "    mask = mask.numpy().astype(int)\n",
    "    for clas_ind in range(mask.shape[0]):\n",
    "        current = mask[clas_ind, ...].reshape(-1)\n",
    "        if 1 in current:\n",
    "            count[clas_ind] += 1\n",
    "print(count, len(dataset))\n",
    "\n",
    "# full: [2278, 1582] 3279\n",
    "# 16(673, 1153): [2278, 1580] 3279\n",
    "# 16(705, 1153): [2278, 1578] 3279\n",
    "# 16(737, 1153): [2278, 1580] 3279\n",
    "# 16(1153, 1153): [2278, 1580] 3279"
   ]
  }
 ],
 "metadata": {
  "celltoolbar": "Tags",
  "hide_input": false,
  "kernelspec": {
   "display_name": "Python [conda env:wider]",
   "language": "python",
   "name": "conda-env-wider-py"
  },
  "language_info": {
   "codemirror_mode": {
    "name": "ipython",
    "version": 3
   },
   "file_extension": ".py",
   "mimetype": "text/x-python",
   "name": "python",
   "nbconvert_exporter": "python",
   "pygments_lexer": "ipython3",
   "version": "3.7.7"
  },
  "varInspector": {
   "cols": {
    "lenName": 16,
    "lenType": 16,
    "lenVar": 40
   },
   "kernels_config": {
    "python": {
     "delete_cmd_postfix": "",
     "delete_cmd_prefix": "del ",
     "library": "var_list.py",
     "varRefreshCmd": "print(var_dic_list())"
    },
    "r": {
     "delete_cmd_postfix": ") ",
     "delete_cmd_prefix": "rm(",
     "library": "var_list.r",
     "varRefreshCmd": "cat(var_dic_list()) "
    }
   },
   "types_to_exclude": [
    "module",
    "function",
    "builtin_function_or_method",
    "instance",
    "_Feature"
   ],
   "window_display": false
  }
 },
 "nbformat": 4,
 "nbformat_minor": 2
}
